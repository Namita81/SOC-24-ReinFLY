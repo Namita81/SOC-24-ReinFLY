{
  "cells": [
    {
      "cell_type": "markdown",
      "id": "a844eed3",
      "metadata": {
        "id": "a844eed3"
      },
      "source": [
        "<center>\n",
        "  <h1>Assignment 1: Developing Flappy Bird using pygame</h1>\n",
        "</center>\n",
        "\n",
        "![pygame logo](https://www.pygame.org/docs/_static/pygame_logo.png)\n"
      ]
    },
    {
      "cell_type": "markdown",
      "id": "a0ac5b33",
      "metadata": {
        "id": "a0ac5b33"
      },
      "source": [
        "This Python Notebook provides a code template where you'll need to complete logical sections of the code. After succesfully running the game, please submit the link to your colab notebook or drive over [here](https://forms.gle/9udc1qcoWDsBodF88)."
      ]
    },
    {
      "cell_type": "markdown",
      "id": "6d11e88d",
      "metadata": {
        "id": "6d11e88d"
      },
      "source": [
        "## Import necessary libraries"
      ]
    },
    {
      "cell_type": "code",
      "execution_count": 77,
      "id": "b0a6eeb7",
      "metadata": {
        "colab": {
          "base_uri": "https://localhost:8080/"
        },
        "id": "b0a6eeb7",
        "outputId": "b6515ec1-76ae-46fe-c093-0a1b2e079c22"
      },
      "outputs": [],
      "source": [
        "import pygame\n",
        "import numpy as np\n",
        "import sys\n",
        "from sys import exit\n",
        "import random\n",
        "# import other dependencies as needed"
      ]
    },
    {
      "cell_type": "markdown",
      "id": "712d2cd4",
      "metadata": {
        "id": "712d2cd4"
      },
      "source": [
        "## Define global constants"
      ]
    },
    {
      "cell_type": "code",
      "execution_count": 78,
      "id": "a1b38b2e",
      "metadata": {
        "id": "a1b38b2e"
      },
      "outputs": [],
      "source": [
        "WIDTH, HEIGHT = 576, 700\n",
        "GRAVITY = 0.25\n",
        "BIRD_JUMP = 5\n",
        "PIPE_GAP = 200\n",
        "PIPE_VELOCITY = 3\n",
        "BIRD_WIDTH, BIRD_HEIGHT = 64, 48\n",
        "PIPE_WIDTH, PIPE_HEIGHT = 100, 800\n",
        "BACKGROUND_COLOR = (0, 102, 204)"
      ]
    },
    {
      "cell_type": "markdown",
      "id": "bb0b0ad4",
      "metadata": {
        "id": "bb0b0ad4"
      },
      "source": [
        "## Collision detection function"
      ]
    },
    {
      "cell_type": "code",
      "execution_count": 79,
      "id": "967119ec",
      "metadata": {
        "id": "967119ec"
      },
      "outputs": [],
      "source": [
        "def check_collision(bird, pipes):\n",
        "    if bird.y_disp>=HEIGHT or bird.y_disp<=0:  \n",
        "        return True\n",
        "    if bird.x_disp>=pipes.p_x and bird.x_disp<=pipes.p_x+PIPE_WIDTH:\n",
        "        if pipes.p_y_top<=bird.y_disp and pipes.p_y_bottom>=bird.y_disp:\n",
        "            return False\n",
        "        else:\n",
        "            return True\n",
        "    return False\n",
        "    \n",
        "    # Collision detection logic, bird should stay within screen bounds and not hit a pipe else return true"
      ]
    },
    {
      "cell_type": "markdown",
      "id": "20a1f0ef",
      "metadata": {
        "id": "20a1f0ef"
      },
      "source": [
        "## Main Game Loop"
      ]
    },
    {
      "cell_type": "code",
      "execution_count": 80,
      "id": "80855052",
      "metadata": {
        "id": "80855052"
      },
      "outputs": [
        {
          "name": "stdout",
          "output_type": "stream",
          "text": [
            "Hii\n"
          ]
        },
        {
          "ename": "SystemExit",
          "evalue": "",
          "output_type": "error",
          "traceback": [
            "An exception has occurred, use %tb to see the full traceback.\n",
            "\u001b[1;31mSystemExit\u001b[0m\n"
          ]
        }
      ],
      "source": [
        "pygame.init()\n",
        "screen = pygame.display.set_mode((WIDTH, HEIGHT))\n",
        "clock = pygame.time.Clock()\n",
        "test_font=pygame.font.Font(None,50)\n",
        "\n",
        "bird_img = pygame.image.load('bird.jpg').convert_alpha()\n",
        "bird_img = pygame.transform.scale(bird_img, (BIRD_WIDTH, BIRD_HEIGHT))\n",
        "pipe_img = pygame.image.load('pipe.jpg').convert_alpha()\n",
        "pipe_img = pygame.transform.scale(pipe_img, (PIPE_WIDTH, PIPE_HEIGHT))\n",
        "\n",
        "score_surf=test_font.render('My Game',False,'white')\n",
        "score_rect=score_surf.get_rect(center=(400,50))\n",
        "\n",
        "\n",
        "# Bird class\n",
        "\n",
        "class Bird:\n",
        "    global WIDTH\n",
        "    def __init__(self,x_disp,y_disp,vel):\n",
        "        self.x_disp=x_disp\n",
        "        self.y_disp=y_disp\n",
        "        self.vel=vel\n",
        "        # Define Birds Variables that you need to initialize\n",
        "    def jump(self):\n",
        "        self.vel=-BIRD_JUMP\n",
        "        # Make a function that when called, causes the bird to jump\n",
        "\n",
        "    def update(self):\n",
        "        self.vel+=GRAVITY\n",
        "        self.y_disp+=self.vel\n",
        "        # Make necessary updates in the birds velocity as well as y coordinate based on gravity(to be updated each frame).\n",
        "\n",
        "    def draw(self):\n",
        "        screen.blit(bird_img,(self.x_disp,self.y_disp))\n",
        "        # Pygame function to draw the bird on screen\n",
        "\n",
        "# Pipe class\n",
        "class Pipe:\n",
        "    def __init__(self,p_y_top,p_x,gap):\n",
        "        self.p_y_top=p_y_top\n",
        "        self.p_x=p_x\n",
        "        self.gap=gap\n",
        "        self.p_y_bottom=self.gap+self.p_y_top\n",
        "\n",
        "        # Define Pipe's variables that are needed to be initialized.\n",
        "\n",
        "    def move(self):\n",
        "        self.p_x-=PIPE_VELOCITY\n",
        "\n",
        "        # function to update the pipe's coordinates based on PIPE_VELOCITY(to be called each frame, similar to Bird.update).\n",
        "    def draw(self):\n",
        "        screen.blit(pipe_img, (self.p_x, 0), (0, 0, PIPE_WIDTH, self.p_y_top))\n",
        "        screen.blit(pipe_img, (self.p_x, self.p_y_top + self.gap), (0, self.p_y_top + self.gap, PIPE_WIDTH, self.p_y_bottom))\n",
        "\n",
        "    #def draw(self):\n",
        "        #screen.blit(pipe_img,(self.p_x,self.p_y_top)(0,0,PIPE_WIDTH,PIPE_HEIGHT))\n",
        "        #screen.blit(pipe_img,((self.p_x,self.p_y_bottom)(0,0,PIPE_WIDTH,PIPE_HEIGHT))\n",
        "        # Draw both segments of the pipe on screen\n",
        "\n",
        "\n",
        "\n",
        "def main():\n",
        "    b1=Bird(x_disp=WIDTH//3,y_disp=HEIGHT//2,vel=0)\n",
        "    p1=Pipe(p_y_top=random.randint(10,(HEIGHT*0.5)),p_x=WIDTH,gap=random.randint(150,300))\n",
        "    score_count=0\n",
        "\n",
        "    # Create bird/pipe instances and score counter\n",
        "\n",
        "    while True:\n",
        "        for event in pygame.event.get():\n",
        "            if event.type == pygame.QUIT:\n",
        "                pygame.quit()\n",
        "                sys.exit()\n",
        "            if event.type==pygame.KEYDOWN:\n",
        "            # print('key down')\n",
        "                if event.key==pygame.K_SPACE:\n",
        "                    b1.jump()\n",
        "            #Set an event checker to allow user to jump\n",
        "\n",
        "        screen.fill(BACKGROUND_COLOR)\n",
        "\n",
        "        b1.update()\n",
        "        p1.move()\n",
        "        # Update bird and pipes\n",
        "        if check_collision(bird=b1,pipes=p1)==True:\n",
        "            print(\"Hii\")\n",
        "            pygame.quit()\n",
        "            sys.exit()\n",
        "        if b1.x_disp>=p1.p_x:\n",
        "            score_count+=1 \n",
        "            p1=Pipe(p_y_top=random.randint(10,(HEIGHT*0.75)),p_x=WIDTH,gap=random.randint(200,400))\n",
        "\n",
        "        # Check if bird collides or passes through pipes\n",
        "\n",
        "        b1.draw()\n",
        "        p1.draw()\n",
        "        score_surf=test_font.render(f\"Score:{score_count}\",False,'white')\n",
        "        score_rect=score_surf.get_rect(center=(200,50))\n",
        "\n",
        "        screen.blit(score_surf,score_rect)\n",
        "        # Draw bird and pipes calling their respective class functions\n",
        "\n",
        "\n",
        "        pygame.display.update()\n",
        "        clock.tick(10)\n",
        "\n",
        "if __name__ == \"__main__\":\n",
        "    main()"
      ]
    }
  ],
  "metadata": {
    "colab": {
      "provenance": []
    },
    "kernelspec": {
      "display_name": "Python 3 (ipykernel)",
      "language": "python",
      "name": "python3"
    },
    "language_info": {
      "codemirror_mode": {
        "name": "ipython",
        "version": 3
      },
      "file_extension": ".py",
      "mimetype": "text/x-python",
      "name": "python",
      "nbconvert_exporter": "python",
      "pygments_lexer": "ipython3",
      "version": "3.11.4"
    }
  },
  "nbformat": 4,
  "nbformat_minor": 5
}
